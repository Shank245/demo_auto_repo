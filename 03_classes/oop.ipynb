{
 "cells": [
  {
   "cell_type": "code",
   "execution_count": 13,
   "id": "00a3246b",
   "metadata": {},
   "outputs": [],
   "source": [
    "class Person:\n",
    "\n",
    "    def __init__(self, name, age, gender, occupation):\n",
    "        self.name = name\n",
    "        self.age = age\n",
    "        self.gender = gender\n",
    "        self.occupation = occupation\n",
    "\n",
    "    def intro(self):\n",
    "        print(f\"my name is {self.name}\")\n",
    "        print(f\"my age is {self.age}\")\n",
    "        print(f\"my gender is {self.gender}\")\n",
    "        print(f\"my occupation is {self.occupation}\")"
   ]
  },
  {
   "cell_type": "code",
   "execution_count": 14,
   "id": "d2c6d628",
   "metadata": {},
   "outputs": [],
   "source": [
    "p1 = Person(name=\"John\", age=30, gender=\"Male\", occupation=\"Engineer\")"
   ]
  },
  {
   "cell_type": "code",
   "execution_count": 15,
   "id": "af9e0f36",
   "metadata": {},
   "outputs": [
    {
     "data": {
      "text/plain": [
       "'John'"
      ]
     },
     "execution_count": 15,
     "metadata": {},
     "output_type": "execute_result"
    }
   ],
   "source": [
    "p1.name"
   ]
  },
  {
   "cell_type": "code",
   "execution_count": 16,
   "id": "39027e1a",
   "metadata": {},
   "outputs": [
    {
     "data": {
      "text/plain": [
       "30"
      ]
     },
     "execution_count": 16,
     "metadata": {},
     "output_type": "execute_result"
    }
   ],
   "source": [
    "p1.age"
   ]
  },
  {
   "cell_type": "code",
   "execution_count": 17,
   "id": "4ca731de",
   "metadata": {},
   "outputs": [
    {
     "name": "stdout",
     "output_type": "stream",
     "text": [
      "my name is John\n",
      "my age is 30\n",
      "my gender is Male\n",
      "my occupation is Engineer\n"
     ]
    }
   ],
   "source": [
    "p1.intro()"
   ]
  },
  {
   "cell_type": "code",
   "execution_count": 20,
   "id": "6c5f664d",
   "metadata": {},
   "outputs": [],
   "source": [
    "from dataclasses import dataclass\n",
    "\n",
    "\n",
    "@dataclass\n",
    "class BankAccount:\n",
    "    account_number: int\n",
    "    account_holder: str\n",
    "    balance: float\n",
    "\n",
    "    def deposit(self, amount):\n",
    "        self.balance += amount\n",
    "        print(f\"Deposited {amount}. New balance is {self.balance}\")\n",
    "\n",
    "    def withdraw(self, amount):\n",
    "        if amount > self.balance:\n",
    "            print(\"Insufficient funds\")\n",
    "        else:\n",
    "            self.balance -= amount\n",
    "            print(f\"Withdrew {amount}. New balance is {self.balance}\")"
   ]
  },
  {
   "cell_type": "code",
   "execution_count": 21,
   "id": "5ed86d56",
   "metadata": {},
   "outputs": [],
   "source": [
    "ac1 = BankAccount(account_number=123456, account_holder=\"Alice\", balance=1000.0)"
   ]
  },
  {
   "cell_type": "code",
   "execution_count": 23,
   "id": "61b9b5c6",
   "metadata": {},
   "outputs": [
    {
     "data": {
      "text/plain": [
       "123456"
      ]
     },
     "execution_count": 23,
     "metadata": {},
     "output_type": "execute_result"
    }
   ],
   "source": [
    "ac1.account_number"
   ]
  },
  {
   "cell_type": "code",
   "execution_count": 24,
   "id": "2c28cd58",
   "metadata": {},
   "outputs": [
    {
     "name": "stdout",
     "output_type": "stream",
     "text": [
      "Deposited 500. New balance is 1500.0\n"
     ]
    }
   ],
   "source": [
    "ac1.deposit(500)"
   ]
  },
  {
   "cell_type": "code",
   "execution_count": 25,
   "id": "344f2153",
   "metadata": {},
   "outputs": [
    {
     "name": "stdout",
     "output_type": "stream",
     "text": [
      "Withdrew 200. New balance is 1300.0\n"
     ]
    }
   ],
   "source": [
    "ac1.withdraw(200)"
   ]
  },
  {
   "cell_type": "code",
   "execution_count": null,
   "id": "75cf9f34",
   "metadata": {},
   "outputs": [],
   "source": []
  }
 ],
 "metadata": {
  "kernelspec": {
   "display_name": "venv",
   "language": "python",
   "name": "python3"
  },
  "language_info": {
   "codemirror_mode": {
    "name": "ipython",
    "version": 3
   },
   "file_extension": ".py",
   "mimetype": "text/x-python",
   "name": "python",
   "nbconvert_exporter": "python",
   "pygments_lexer": "ipython3",
   "version": "3.13.2"
  }
 },
 "nbformat": 4,
 "nbformat_minor": 5
}
