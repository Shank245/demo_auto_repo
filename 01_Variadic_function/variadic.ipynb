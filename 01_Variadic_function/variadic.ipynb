{
 "cells": [
  {
   "cell_type": "markdown",
   "id": "bf5dffa2",
   "metadata": {},
   "source": [
    "Variadic functions"
   ]
  },
  {
   "cell_type": "markdown",
   "id": "5cd52cc3",
   "metadata": {},
   "source": [
    "def billings(*args):\n",
    "    final_total=0\n",
    "    for name,price,qty in args:\n",
    "    item_toal=price*qty\n",
    "    print(f'Name:{name}',Price:{price},Qty:{qty})\n",
    "    final_total=final_total+item_total\n"
   ]
  },
  {
   "cell_type": "markdown",
   "id": "594bba6e",
   "metadata": {},
   "source": []
  },
  {
   "cell_type": "code",
   "execution_count": null,
   "id": "a9bce5ca",
   "metadata": {},
   "outputs": [],
   "source": [
    "def"
   ]
  }
 ],
 "metadata": {
  "kernelspec": {
   "display_name": "venv",
   "language": "python",
   "name": "python3"
  },
  "language_info": {
   "name": "python",
   "version": "3.13.2"
  }
 },
 "nbformat": 4,
 "nbformat_minor": 5
}
